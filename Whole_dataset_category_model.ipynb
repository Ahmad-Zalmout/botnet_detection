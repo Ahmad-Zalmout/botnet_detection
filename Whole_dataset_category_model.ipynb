{
 "cells": [
  {
   "cell_type": "code",
   "execution_count": 1,
   "metadata": {},
   "outputs": [],
   "source": [
    "import pandas as pd \n",
    "import numpy as np\n",
    "import os\n",
    "\n",
    "from sklearn.model_selection import train_test_split \n",
    "from sklearn.metrics import classification_report \n",
    "from sklearn.preprocessing import MinMaxScaler, OneHotEncoder\n",
    "from sklearn.preprocessing import OrdinalEncoder\n",
    "from sklearn.neighbors import KNeighborsClassifier"
   ]
  },
  {
   "cell_type": "code",
   "execution_count": 2,
   "metadata": {},
   "outputs": [],
   "source": [
    "trainingFilePath = os.path.abspath(r'CSV\\Traning and Testing sets\\10-best features\\10-best Training-Testing split\\UNSW_2018_IoT_Botnet_Final_10_best_Training.csv')\n",
    "df_train = pd.read_csv(trainingFilePath)\n",
    "testingFilePath = os.path.abspath(r'CSV\\Traning and Testing sets\\10-best features\\10-best Training-Testing split\\UNSW_2018_IoT_Botnet_Final_10_best_Testing.csv')\n",
    "df_test = pd.read_csv(testingFilePath)"
   ]
  },
  {
   "cell_type": "code",
   "execution_count": 3,
   "metadata": {},
   "outputs": [],
   "source": [
    "df_train.drop(692086,inplace = True)\n",
    "df_test.drop(700301,inplace = True)"
   ]
  },
  {
   "cell_type": "code",
   "execution_count": 4,
   "metadata": {},
   "outputs": [],
   "source": [
    "scaler = MinMaxScaler()\n",
    "ordinal = OrdinalEncoder()\n",
    "df_train['saddr']=ordinal.fit_transform(df_train[['saddr']])\n",
    "df_train['sport']=ordinal.fit_transform(df_train[['sport']])\n",
    "df_train['daddr']=ordinal.fit_transform(df_train[['daddr']])\n",
    "df_train['dport']=ordinal.fit_transform(df_train[['dport']])\n",
    "df_train['seq']=scaler.fit_transform(df_train[['seq']])\n",
    "df_train['stddev']=scaler.fit_transform(df_train[['stddev']])\n",
    "df_train['N_IN_Conn_P_SrcIP']=scaler.fit_transform(df_train[['N_IN_Conn_P_SrcIP']])\n",
    "df_train['min']=scaler.fit_transform(df_train[['min']])\n",
    "df_train['state_number']=scaler.fit_transform(df_train[['state_number']])\n",
    "df_train['mean']=scaler.fit_transform(df_train[['mean']])\n",
    "df_train['N_IN_Conn_P_DstIP']=scaler.fit_transform(df_train[['N_IN_Conn_P_DstIP']])\n",
    "df_train['srate']=scaler.fit_transform(df_train[['srate']])\n",
    "df_train['max']=scaler.fit_transform(df_train[['max']])\n",
    "\n",
    "df_test['saddr']=ordinal.fit_transform(df_test[['saddr']])\n",
    "df_test['sport']=ordinal.fit_transform(df_test[['sport']])\n",
    "df_test['daddr']=ordinal.fit_transform(df_test[['daddr']])\n",
    "df_test['dport']=ordinal.fit_transform(df_test[['dport']])\n",
    "df_test['seq']=scaler.fit_transform(df_test[['seq']])\n",
    "df_test['stddev']=scaler.fit_transform(df_test[['stddev']])\n",
    "df_test['N_IN_Conn_P_SrcIP']=scaler.fit_transform(df_test[['N_IN_Conn_P_SrcIP']])\n",
    "df_test['min']=scaler.fit_transform(df_test[['min']])\n",
    "df_test['state_number']=scaler.fit_transform(df_test[['state_number']])\n",
    "df_test['mean']=scaler.fit_transform(df_test[['mean']])\n",
    "df_test['N_IN_Conn_P_DstIP']=scaler.fit_transform(df_test[['N_IN_Conn_P_DstIP']])\n",
    "df_test['srate']=scaler.fit_transform(df_test[['srate']])\n",
    "df_test['max']=scaler.fit_transform(df_test[['max']])\n",
    "\n",
    "\n",
    "enc=OrdinalEncoder()\n",
    "df_train['category']=enc.fit_transform(df_train[['category']])\n",
    "\n",
    "df_test['category']=enc.fit_transform(df_test[['category']])"
   ]
  },
  {
   "cell_type": "code",
   "execution_count": 5,
   "metadata": {},
   "outputs": [],
   "source": [
    "\n",
    "X_train=df_train[['pkSeqID', 'saddr', 'sport', 'daddr', 'dport', 'seq', 'stddev', 'N_IN_Conn_P_SrcIP', 'min', 'state_number', 'mean', 'N_IN_Conn_P_DstIP', 'srate', 'max']]\n",
    "X_test=df_test[['pkSeqID', 'saddr', 'sport', 'daddr', 'dport', 'seq', 'stddev', 'N_IN_Conn_P_SrcIP', 'min', 'state_number', 'mean', 'N_IN_Conn_P_DstIP', 'srate', 'max']]\n",
    "yC_train=df_train['category']\n",
    "yC_test=df_test['category']"
   ]
  },
  {
   "cell_type": "code",
   "execution_count": 6,
   "metadata": {},
   "outputs": [],
   "source": [
    "modelC = KNeighborsClassifier(n_neighbors=35, weights='uniform', algorithm='auto', metric_params=None, n_jobs=-1) \n",
    "\n",
    "clf = modelC.fit(X_train, yC_train)\n",
    "\n",
    "pred_labels_tr = modelC.predict(X_train)\n",
    "\n",
    "pred_labels_te = modelC.predict(X_test)"
   ]
  },
  {
   "cell_type": "code",
   "execution_count": 7,
   "metadata": {},
   "outputs": [
    {
     "name": "stdout",
     "output_type": "stream",
     "text": [
      "---------------------------------------------------------\n",
      "****************** KNN Classification ******************\n",
      "Classes:  [0. 1. 2. 3. 4.]\n",
      "Effective Metric:  euclidean\n",
      "Effective Metric Params:  {}\n",
      "No. of Samples Fit:  2934816\n",
      "\n",
      "*************** Evaluation on Test Data ***************\n",
      "Accuracy Score:  0.9998269056731325\n",
      "{'0.0': {'precision': 0.9999818289428598, 'recall': 0.9997716118751444, 'f1-score': 0.9998767093598361, 'support': 385309}, '1.0': {'precision': 1.0, 'recall': 1.0, 'f1-score': 1.0, 'support': 330111}, '2.0': {'precision': 0.455, 'recall': 0.8504672897196262, 'f1-score': 0.5928338762214984, 'support': 107}, '3.0': {'precision': 0.999394006170119, 'recall': 0.9987887463524748, 'f1-score': 0.9990912845931432, 'support': 18163}, '4.0': {'precision': 1.0, 'recall': 0.9285714285714286, 'f1-score': 0.962962962962963, 'support': 14}, 'accuracy': 0.9998269056731325, 'macro avg': {'precision': 0.8908751670225957, 'recall': 0.9555198153037348, 'f1-score': 0.9109529666274883, 'support': 733704}, 'weighted avg': {'precision': 0.9998959755735449, 'recall': 0.9998269056731325, 'f1-score': 0.9998526718063845, 'support': 733704}}\n",
      "\n",
      "*************** Evaluation on Training Data ***************\n",
      "Accuracy Score:  0.9999509338915966\n",
      "              precision    recall  f1-score   support\n",
      "\n",
      "         0.0       1.00      1.00      1.00   1541315\n",
      "         1.0       1.00      1.00      1.00   1320147\n",
      "         2.0       0.83      0.82      0.83       370\n",
      "         3.0       1.00      1.00      1.00     72919\n",
      "         4.0       0.98      0.95      0.97        65\n",
      "\n",
      "    accuracy                           1.00   2934816\n",
      "   macro avg       0.96      0.96      0.96   2934816\n",
      "weighted avg       1.00      1.00      1.00   2934816\n",
      "\n",
      "---------------------------------------------------------\n"
     ]
    }
   ],
   "source": [
    "print('---------------------------------------------------------')\n",
    "print('****************** KNN Classification ******************')    \n",
    "print('Classes: ', clf.classes_)\n",
    "print('Effective Metric: ', clf.effective_metric_)\n",
    "print('Effective Metric Params: ', clf.effective_metric_params_)\n",
    "print('No. of Samples Fit: ', clf.n_samples_fit_)\n",
    "print(\"\")\n",
    "\n",
    "print('*************** Evaluation on Test Data ***************')\n",
    "scoreC_te = modelC.score(X_test, yC_test)\n",
    "print('Accuracy Score: ', scoreC_te)\n",
    "\n",
    "print(classification_report(yC_test, pred_labels_te,output_dict=True))\n",
    "print(\"\")\n",
    "\n",
    "print('*************** Evaluation on Training Data ***************')\n",
    "scoreC_tr = modelC.score(X_train, yC_train)\n",
    "print('Accuracy Score: ', scoreC_tr)\n",
    "print(classification_report(yC_train, pred_labels_tr))\n",
    "print('---------------------------------------------------------')"
   ]
  }
 ],
 "metadata": {
  "interpreter": {
   "hash": "26de051ba29f2982a8de78e945f0abaf191376122a1563185a90213a26c5da77"
  },
  "kernelspec": {
   "display_name": "Python 3.10.3 64-bit",
   "language": "python",
   "name": "python3"
  },
  "language_info": {
   "codemirror_mode": {
    "name": "ipython",
    "version": 3
   },
   "file_extension": ".py",
   "mimetype": "text/x-python",
   "name": "python",
   "nbconvert_exporter": "python",
   "pygments_lexer": "ipython3",
   "version": "3.10.3"
  },
  "orig_nbformat": 4
 },
 "nbformat": 4,
 "nbformat_minor": 2
}
